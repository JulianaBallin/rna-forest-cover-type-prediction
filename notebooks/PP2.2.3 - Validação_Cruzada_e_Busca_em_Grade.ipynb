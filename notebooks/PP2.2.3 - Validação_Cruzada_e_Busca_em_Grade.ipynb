{
 "cells": [
  {
   "cell_type": "markdown",
   "metadata": {
    "id": "SVPf2qACAJBU"
   },
   "source": [
    "# Redes Neurais Artificiais 2025.2\n",
    "\n",
    "- **Disciplina**: Redes Neurais Artificiais 2025.2\n",
    "- **Professora**: Elloá B. Guedes (ebgcosta@uea.edu.br)  \n",
    "- **Github**: http://github.com/elloa  \n",
    "        \n",
    "\n",
    "Levando em conta a base de dados **_Forest Cover Type_**, esta parte do Projeto Prático diz respeito à proposição e avaliação de múltiplas redes neurais artificiais do tipo feedforward multilayer perceptron para o problema da classificação multi-classe da cobertura florestal em uma área do Roosevelt National Forest.\n",
    "\n",
    "## Busca em Grade\n",
    "\n",
    "Uma maneira padrão de escolher os parâmetros de um modelo de Machine Learning é por meio de uma busca em grade via força bruta. O algoritmo da busca em grade é dado como segue:\n",
    "\n",
    "1. Escolha a métrica de desempenho que você deseja maximizar  \n",
    "2. Escolha o algoritmo de Machine Learning (exemplo: redes neurais artificiais). Em seguida, defina os parâmetros ou hiperparâmetros deste tipo de modelo sobre os quais você dseja otimizar (número de épocas, taxa de aprendizado, etc.) e construa um array de valores a serem testados para cada parâmetro ou hiperparâmetro.  \n",
    "3. Defina a grade de busca, a qual é dada como o produto cartesiano de cada parâmetro a ser testado. Por exemplo, para os arrays [50, 100, 1000] e [10, 15], tem-se que a grade é [(50,10), (50,15), (100,10), (100,15), (1000,10), (1000,15)].\n",
    "4. Para cada combinação de parâmetros a serem otimizados, utilize o conjunto de treinamento para realizar uma validação cruzada (holdout ou k-fold) e calcule a métrica de avaliação no conjunto de teste (ou conjuntos de teste)\n",
    "5. Escolha a combinação de parâmetros que maximizam a métrica de avaliação. Este é o modelo otimizado.\n",
    "\n",
    "Por que esta abordagem funciona? Porque a busca em grade efetua uma pesquisa extensiva sobre as possíveis combinações de valores para cada um dos parâmetros a serem ajustados. Para cada combinação, ela estima a performance do modelo em dados novos. Por fim, o modelo com melhor métrica de desempenho é escolhido. Tem-se então que este modelo é o que melhor pode vir a generalizar mediante dados nunca antes vistos.\n",
    "\n",
    "## Efetuando a Busca em Grade sobre Hiperparâmetros das Top-6 RNAs\n",
    "\n",
    "Considerando a etapa anterior do projeto prático, foram identificadas pelo menos 6 melhores Redes Neurais para o problema da classificação multi-classe da cobertura florestal no conjunto de dados selecionado. Algumas destas redes possuem atributos categóricos como variáveis preditoras, enquanto outras possuem apenas os atributos numéricos como preditores.\n",
    "\n",
    "A primeira etapa desta segunda parte do projeto consiste em trazer para este notebook estas seis arquiteturas, ressaltando:\n",
    "\n",
    "1. Número de neurônios ocultos por camada  \n",
    "2. Função de Ativação  \n",
    "3. Utilização ou não de atributos categóricos   \n",
    "4. Desempenho médio +- desvio padrão nos testes anteriores  \n",
    "5. Número de repetições que a equipe conseguiu realizar para verificar os resultados  \n",
    "\n",
    "Elabore uma busca em grade sobre estas arquiteturas que contemple variações nos hiperparâmetros a seguir, conforme documentação de [MLPClassifier](https://scikit-learn.org/stable/modules/generated/sklearn.neural_network.MLPClassifier.html)\n",
    "\n",
    "A. Solver  (Não usar o LBFGS, pois é mais adequado para datasets pequenos)  \n",
    "B. Batch Size  \n",
    "C. Learning Rate Init  \n",
    "D. Paciência (n_iter_no_change)  \n",
    "E. Épocas  \n",
    "\n",
    "Nesta busca em grande, contemple a utilização do objeto [GridSearchCV](https://scikit-learn.org/stable/modules/generated/sklearn.model_selection.GridSearchCV.html)"
   ]
  },
  {
   "cell_type": "markdown",
   "metadata": {
    "id": "KYN5DbptAJBW"
   },
   "source": [
    "## Validação Cruzada k-fold\n",
    "\n",
    "Na elaboração da busca em grid, vamos avaliar os modelos propostos segundo uma estratégia de validação cruzada ainda não explorada até o momento: a validação cruzada k-fold. Segundo a mesma, o conjunto de dados é particionado em k partes: a cada iteração, separa-se uma das partes para teste e o modelo é treinado com as k-1 partes remanescentes. Valores sugestivos de k na literatura são k = 3, 5 ou 10, pois o custo computacional desta validação dos modelos é alto. A métrica de desempenho é resultante da média dos desempenhos nas k iterações. A figura a seguir ilustra a ideia desta avaliação\n",
    "\n",
    "<img src = \"https://ethen8181.github.io/machine-learning/model_selection/img/kfolds.png\" width=600></img>\n",
    "\n",
    "Considerando a métrica de desempenho F1-Score, considere a validação cruzada 5-fold para aferir os resultados da busca em grande anterior."
   ]
  },
  {
   "cell_type": "code",
   "execution_count": 65,
   "metadata": {},
   "outputs": [],
   "source": [
    "import gc\n",
    "import itertools\n",
    "import json\n",
    "import time\n",
    "from copy import deepcopy\n",
    "from pathlib import Path\n",
    "\n",
    "import joblib\n",
    "import kagglehub\n",
    "import matplotlib.pyplot as plt\n",
    "import numpy as np\n",
    "import pandas as pd\n",
    "import seaborn as sns\n",
    "import torch\n",
    "from sklearn.metrics import classification_report, confusion_matrix, f1_score\n",
    "from sklearn.model_selection import StratifiedKFold, StratifiedShuffleSplit\n",
    "from sklearn.preprocessing import StandardScaler\n",
    "from torch import nn\n",
    "from torch.utils.data import DataLoader, Dataset"
   ]
  },
  {
   "cell_type": "code",
   "execution_count": 36,
   "metadata": {},
   "outputs": [
    {
     "name": "stdout",
     "output_type": "stream",
     "text": [
      "Dataset successfully loaded from Kaggle.\n",
      "Shape of the dataset: (581012, 55)\n"
     ]
    },
    {
     "data": {
      "application/vnd.microsoft.datawrangler.viewer.v0+json": {
       "columns": [
        {
         "name": "index",
         "rawType": "int64",
         "type": "integer"
        },
        {
         "name": "Elevation",
         "rawType": "int64",
         "type": "integer"
        },
        {
         "name": "Aspect",
         "rawType": "int64",
         "type": "integer"
        },
        {
         "name": "Slope",
         "rawType": "int64",
         "type": "integer"
        },
        {
         "name": "Horizontal_Distance_To_Hydrology",
         "rawType": "int64",
         "type": "integer"
        },
        {
         "name": "Vertical_Distance_To_Hydrology",
         "rawType": "int64",
         "type": "integer"
        },
        {
         "name": "Horizontal_Distance_To_Roadways",
         "rawType": "int64",
         "type": "integer"
        },
        {
         "name": "Hillshade_9am",
         "rawType": "int64",
         "type": "integer"
        },
        {
         "name": "Hillshade_Noon",
         "rawType": "int64",
         "type": "integer"
        },
        {
         "name": "Hillshade_3pm",
         "rawType": "int64",
         "type": "integer"
        },
        {
         "name": "Horizontal_Distance_To_Fire_Points",
         "rawType": "int64",
         "type": "integer"
        },
        {
         "name": "Wilderness_Area1",
         "rawType": "int64",
         "type": "integer"
        },
        {
         "name": "Wilderness_Area2",
         "rawType": "int64",
         "type": "integer"
        },
        {
         "name": "Wilderness_Area3",
         "rawType": "int64",
         "type": "integer"
        },
        {
         "name": "Wilderness_Area4",
         "rawType": "int64",
         "type": "integer"
        },
        {
         "name": "Soil_Type1",
         "rawType": "int64",
         "type": "integer"
        },
        {
         "name": "Soil_Type2",
         "rawType": "int64",
         "type": "integer"
        },
        {
         "name": "Soil_Type3",
         "rawType": "int64",
         "type": "integer"
        },
        {
         "name": "Soil_Type4",
         "rawType": "int64",
         "type": "integer"
        },
        {
         "name": "Soil_Type5",
         "rawType": "int64",
         "type": "integer"
        },
        {
         "name": "Soil_Type6",
         "rawType": "int64",
         "type": "integer"
        },
        {
         "name": "Soil_Type7",
         "rawType": "int64",
         "type": "integer"
        },
        {
         "name": "Soil_Type8",
         "rawType": "int64",
         "type": "integer"
        },
        {
         "name": "Soil_Type9",
         "rawType": "int64",
         "type": "integer"
        },
        {
         "name": "Soil_Type10",
         "rawType": "int64",
         "type": "integer"
        },
        {
         "name": "Soil_Type11",
         "rawType": "int64",
         "type": "integer"
        },
        {
         "name": "Soil_Type12",
         "rawType": "int64",
         "type": "integer"
        },
        {
         "name": "Soil_Type13",
         "rawType": "int64",
         "type": "integer"
        },
        {
         "name": "Soil_Type14",
         "rawType": "int64",
         "type": "integer"
        },
        {
         "name": "Soil_Type15",
         "rawType": "int64",
         "type": "integer"
        },
        {
         "name": "Soil_Type16",
         "rawType": "int64",
         "type": "integer"
        },
        {
         "name": "Soil_Type17",
         "rawType": "int64",
         "type": "integer"
        },
        {
         "name": "Soil_Type18",
         "rawType": "int64",
         "type": "integer"
        },
        {
         "name": "Soil_Type19",
         "rawType": "int64",
         "type": "integer"
        },
        {
         "name": "Soil_Type20",
         "rawType": "int64",
         "type": "integer"
        },
        {
         "name": "Soil_Type21",
         "rawType": "int64",
         "type": "integer"
        },
        {
         "name": "Soil_Type22",
         "rawType": "int64",
         "type": "integer"
        },
        {
         "name": "Soil_Type23",
         "rawType": "int64",
         "type": "integer"
        },
        {
         "name": "Soil_Type24",
         "rawType": "int64",
         "type": "integer"
        },
        {
         "name": "Soil_Type25",
         "rawType": "int64",
         "type": "integer"
        },
        {
         "name": "Soil_Type26",
         "rawType": "int64",
         "type": "integer"
        },
        {
         "name": "Soil_Type27",
         "rawType": "int64",
         "type": "integer"
        },
        {
         "name": "Soil_Type28",
         "rawType": "int64",
         "type": "integer"
        },
        {
         "name": "Soil_Type29",
         "rawType": "int64",
         "type": "integer"
        },
        {
         "name": "Soil_Type30",
         "rawType": "int64",
         "type": "integer"
        },
        {
         "name": "Soil_Type31",
         "rawType": "int64",
         "type": "integer"
        },
        {
         "name": "Soil_Type32",
         "rawType": "int64",
         "type": "integer"
        },
        {
         "name": "Soil_Type33",
         "rawType": "int64",
         "type": "integer"
        },
        {
         "name": "Soil_Type34",
         "rawType": "int64",
         "type": "integer"
        },
        {
         "name": "Soil_Type35",
         "rawType": "int64",
         "type": "integer"
        },
        {
         "name": "Soil_Type36",
         "rawType": "int64",
         "type": "integer"
        },
        {
         "name": "Soil_Type37",
         "rawType": "int64",
         "type": "integer"
        },
        {
         "name": "Soil_Type38",
         "rawType": "int64",
         "type": "integer"
        },
        {
         "name": "Soil_Type39",
         "rawType": "int64",
         "type": "integer"
        },
        {
         "name": "Soil_Type40",
         "rawType": "int64",
         "type": "integer"
        },
        {
         "name": "Cover_Type",
         "rawType": "int64",
         "type": "integer"
        }
       ],
       "ref": "0b337f10-49e8-4f16-a217-f088a3931ad5",
       "rows": [
        [
         "0",
         "2596",
         "51",
         "3",
         "258",
         "0",
         "510",
         "221",
         "232",
         "148",
         "6279",
         "1",
         "0",
         "0",
         "0",
         "0",
         "0",
         "0",
         "0",
         "0",
         "0",
         "0",
         "0",
         "0",
         "0",
         "0",
         "0",
         "0",
         "0",
         "0",
         "0",
         "0",
         "0",
         "0",
         "0",
         "0",
         "0",
         "0",
         "0",
         "0",
         "0",
         "0",
         "0",
         "1",
         "0",
         "0",
         "0",
         "0",
         "0",
         "0",
         "0",
         "0",
         "0",
         "0",
         "0",
         "5"
        ],
        [
         "1",
         "2590",
         "56",
         "2",
         "212",
         "-6",
         "390",
         "220",
         "235",
         "151",
         "6225",
         "1",
         "0",
         "0",
         "0",
         "0",
         "0",
         "0",
         "0",
         "0",
         "0",
         "0",
         "0",
         "0",
         "0",
         "0",
         "0",
         "0",
         "0",
         "0",
         "0",
         "0",
         "0",
         "0",
         "0",
         "0",
         "0",
         "0",
         "0",
         "0",
         "0",
         "0",
         "0",
         "1",
         "0",
         "0",
         "0",
         "0",
         "0",
         "0",
         "0",
         "0",
         "0",
         "0",
         "0",
         "5"
        ],
        [
         "2",
         "2804",
         "139",
         "9",
         "268",
         "65",
         "3180",
         "234",
         "238",
         "135",
         "6121",
         "1",
         "0",
         "0",
         "0",
         "0",
         "0",
         "0",
         "0",
         "0",
         "0",
         "0",
         "0",
         "0",
         "0",
         "0",
         "1",
         "0",
         "0",
         "0",
         "0",
         "0",
         "0",
         "0",
         "0",
         "0",
         "0",
         "0",
         "0",
         "0",
         "0",
         "0",
         "0",
         "0",
         "0",
         "0",
         "0",
         "0",
         "0",
         "0",
         "0",
         "0",
         "0",
         "0",
         "0",
         "2"
        ],
        [
         "3",
         "2785",
         "155",
         "18",
         "242",
         "118",
         "3090",
         "238",
         "238",
         "122",
         "6211",
         "1",
         "0",
         "0",
         "0",
         "0",
         "0",
         "0",
         "0",
         "0",
         "0",
         "0",
         "0",
         "0",
         "0",
         "0",
         "0",
         "0",
         "0",
         "0",
         "0",
         "0",
         "0",
         "0",
         "0",
         "0",
         "0",
         "0",
         "0",
         "0",
         "0",
         "0",
         "0",
         "0",
         "1",
         "0",
         "0",
         "0",
         "0",
         "0",
         "0",
         "0",
         "0",
         "0",
         "0",
         "2"
        ],
        [
         "4",
         "2595",
         "45",
         "2",
         "153",
         "-1",
         "391",
         "220",
         "234",
         "150",
         "6172",
         "1",
         "0",
         "0",
         "0",
         "0",
         "0",
         "0",
         "0",
         "0",
         "0",
         "0",
         "0",
         "0",
         "0",
         "0",
         "0",
         "0",
         "0",
         "0",
         "0",
         "0",
         "0",
         "0",
         "0",
         "0",
         "0",
         "0",
         "0",
         "0",
         "0",
         "0",
         "0",
         "1",
         "0",
         "0",
         "0",
         "0",
         "0",
         "0",
         "0",
         "0",
         "0",
         "0",
         "0",
         "5"
        ]
       ],
       "shape": {
        "columns": 55,
        "rows": 5
       }
      },
      "text/html": [
       "<div>\n",
       "<style scoped>\n",
       "    .dataframe tbody tr th:only-of-type {\n",
       "        vertical-align: middle;\n",
       "    }\n",
       "\n",
       "    .dataframe tbody tr th {\n",
       "        vertical-align: top;\n",
       "    }\n",
       "\n",
       "    .dataframe thead th {\n",
       "        text-align: right;\n",
       "    }\n",
       "</style>\n",
       "<table border=\"1\" class=\"dataframe\">\n",
       "  <thead>\n",
       "    <tr style=\"text-align: right;\">\n",
       "      <th></th>\n",
       "      <th>Elevation</th>\n",
       "      <th>Aspect</th>\n",
       "      <th>Slope</th>\n",
       "      <th>Horizontal_Distance_To_Hydrology</th>\n",
       "      <th>Vertical_Distance_To_Hydrology</th>\n",
       "      <th>Horizontal_Distance_To_Roadways</th>\n",
       "      <th>Hillshade_9am</th>\n",
       "      <th>Hillshade_Noon</th>\n",
       "      <th>Hillshade_3pm</th>\n",
       "      <th>Horizontal_Distance_To_Fire_Points</th>\n",
       "      <th>...</th>\n",
       "      <th>Soil_Type32</th>\n",
       "      <th>Soil_Type33</th>\n",
       "      <th>Soil_Type34</th>\n",
       "      <th>Soil_Type35</th>\n",
       "      <th>Soil_Type36</th>\n",
       "      <th>Soil_Type37</th>\n",
       "      <th>Soil_Type38</th>\n",
       "      <th>Soil_Type39</th>\n",
       "      <th>Soil_Type40</th>\n",
       "      <th>Cover_Type</th>\n",
       "    </tr>\n",
       "  </thead>\n",
       "  <tbody>\n",
       "    <tr>\n",
       "      <th>0</th>\n",
       "      <td>2596</td>\n",
       "      <td>51</td>\n",
       "      <td>3</td>\n",
       "      <td>258</td>\n",
       "      <td>0</td>\n",
       "      <td>510</td>\n",
       "      <td>221</td>\n",
       "      <td>232</td>\n",
       "      <td>148</td>\n",
       "      <td>6279</td>\n",
       "      <td>...</td>\n",
       "      <td>0</td>\n",
       "      <td>0</td>\n",
       "      <td>0</td>\n",
       "      <td>0</td>\n",
       "      <td>0</td>\n",
       "      <td>0</td>\n",
       "      <td>0</td>\n",
       "      <td>0</td>\n",
       "      <td>0</td>\n",
       "      <td>5</td>\n",
       "    </tr>\n",
       "    <tr>\n",
       "      <th>1</th>\n",
       "      <td>2590</td>\n",
       "      <td>56</td>\n",
       "      <td>2</td>\n",
       "      <td>212</td>\n",
       "      <td>-6</td>\n",
       "      <td>390</td>\n",
       "      <td>220</td>\n",
       "      <td>235</td>\n",
       "      <td>151</td>\n",
       "      <td>6225</td>\n",
       "      <td>...</td>\n",
       "      <td>0</td>\n",
       "      <td>0</td>\n",
       "      <td>0</td>\n",
       "      <td>0</td>\n",
       "      <td>0</td>\n",
       "      <td>0</td>\n",
       "      <td>0</td>\n",
       "      <td>0</td>\n",
       "      <td>0</td>\n",
       "      <td>5</td>\n",
       "    </tr>\n",
       "    <tr>\n",
       "      <th>2</th>\n",
       "      <td>2804</td>\n",
       "      <td>139</td>\n",
       "      <td>9</td>\n",
       "      <td>268</td>\n",
       "      <td>65</td>\n",
       "      <td>3180</td>\n",
       "      <td>234</td>\n",
       "      <td>238</td>\n",
       "      <td>135</td>\n",
       "      <td>6121</td>\n",
       "      <td>...</td>\n",
       "      <td>0</td>\n",
       "      <td>0</td>\n",
       "      <td>0</td>\n",
       "      <td>0</td>\n",
       "      <td>0</td>\n",
       "      <td>0</td>\n",
       "      <td>0</td>\n",
       "      <td>0</td>\n",
       "      <td>0</td>\n",
       "      <td>2</td>\n",
       "    </tr>\n",
       "    <tr>\n",
       "      <th>3</th>\n",
       "      <td>2785</td>\n",
       "      <td>155</td>\n",
       "      <td>18</td>\n",
       "      <td>242</td>\n",
       "      <td>118</td>\n",
       "      <td>3090</td>\n",
       "      <td>238</td>\n",
       "      <td>238</td>\n",
       "      <td>122</td>\n",
       "      <td>6211</td>\n",
       "      <td>...</td>\n",
       "      <td>0</td>\n",
       "      <td>0</td>\n",
       "      <td>0</td>\n",
       "      <td>0</td>\n",
       "      <td>0</td>\n",
       "      <td>0</td>\n",
       "      <td>0</td>\n",
       "      <td>0</td>\n",
       "      <td>0</td>\n",
       "      <td>2</td>\n",
       "    </tr>\n",
       "    <tr>\n",
       "      <th>4</th>\n",
       "      <td>2595</td>\n",
       "      <td>45</td>\n",
       "      <td>2</td>\n",
       "      <td>153</td>\n",
       "      <td>-1</td>\n",
       "      <td>391</td>\n",
       "      <td>220</td>\n",
       "      <td>234</td>\n",
       "      <td>150</td>\n",
       "      <td>6172</td>\n",
       "      <td>...</td>\n",
       "      <td>0</td>\n",
       "      <td>0</td>\n",
       "      <td>0</td>\n",
       "      <td>0</td>\n",
       "      <td>0</td>\n",
       "      <td>0</td>\n",
       "      <td>0</td>\n",
       "      <td>0</td>\n",
       "      <td>0</td>\n",
       "      <td>5</td>\n",
       "    </tr>\n",
       "  </tbody>\n",
       "</table>\n",
       "<p>5 rows × 55 columns</p>\n",
       "</div>"
      ],
      "text/plain": [
       "   Elevation  Aspect  Slope  Horizontal_Distance_To_Hydrology  \\\n",
       "0       2596      51      3                               258   \n",
       "1       2590      56      2                               212   \n",
       "2       2804     139      9                               268   \n",
       "3       2785     155     18                               242   \n",
       "4       2595      45      2                               153   \n",
       "\n",
       "   Vertical_Distance_To_Hydrology  Horizontal_Distance_To_Roadways  \\\n",
       "0                               0                              510   \n",
       "1                              -6                              390   \n",
       "2                              65                             3180   \n",
       "3                             118                             3090   \n",
       "4                              -1                              391   \n",
       "\n",
       "   Hillshade_9am  Hillshade_Noon  Hillshade_3pm  \\\n",
       "0            221             232            148   \n",
       "1            220             235            151   \n",
       "2            234             238            135   \n",
       "3            238             238            122   \n",
       "4            220             234            150   \n",
       "\n",
       "   Horizontal_Distance_To_Fire_Points  ...  Soil_Type32  Soil_Type33  \\\n",
       "0                                6279  ...            0            0   \n",
       "1                                6225  ...            0            0   \n",
       "2                                6121  ...            0            0   \n",
       "3                                6211  ...            0            0   \n",
       "4                                6172  ...            0            0   \n",
       "\n",
       "   Soil_Type34  Soil_Type35  Soil_Type36  Soil_Type37  Soil_Type38  \\\n",
       "0            0            0            0            0            0   \n",
       "1            0            0            0            0            0   \n",
       "2            0            0            0            0            0   \n",
       "3            0            0            0            0            0   \n",
       "4            0            0            0            0            0   \n",
       "\n",
       "   Soil_Type39  Soil_Type40  Cover_Type  \n",
       "0            0            0           5  \n",
       "1            0            0           5  \n",
       "2            0            0           2  \n",
       "3            0            0           2  \n",
       "4            0            0           5  \n",
       "\n",
       "[5 rows x 55 columns]"
      ]
     },
     "execution_count": 36,
     "metadata": {},
     "output_type": "execute_result"
    }
   ],
   "source": [
    "try:\n",
    "    path = kagglehub.dataset_download(\"uciml/forest-cover-type-dataset\")\n",
    "    csv_path = Path(path, \"covtype.csv\")\n",
    "    df = pd.read_csv(csv_path)\n",
    "    print(\"Dataset successfully loaded from Kaggle.\")\n",
    "except Exception as e:\n",
    "    print(\"Error using kagglehub:\", e)\n",
    "    df = pd.read_csv(\"covtype.csv\")\n",
    "    print(\"Dataset loaded from local file.\")\n",
    "\n",
    "print(\"Shape of the dataset:\", df.shape)\n",
    "df.head()"
   ]
  },
  {
   "cell_type": "code",
   "execution_count": 37,
   "metadata": {},
   "outputs": [
    {
     "data": {
      "text/plain": [
       "'C:\\\\Users\\\\lucas\\\\.cache\\\\kagglehub\\\\datasets\\\\uciml\\\\forest-cover-type-dataset\\\\versions\\\\1'"
      ]
     },
     "execution_count": 37,
     "metadata": {},
     "output_type": "execute_result"
    }
   ],
   "source": [
    "path"
   ]
  },
  {
   "cell_type": "code",
   "execution_count": null,
   "metadata": {
    "colab": {
     "base_uri": "https://localhost:8080/",
     "height": 290
    },
    "id": "n0sKFvJQAJBa",
    "outputId": "63e6866c-ee57-4ef3-bc50-732dcee4e7c8"
   },
   "outputs": [
    {
     "name": "stdout",
     "output_type": "stream",
     "text": [
      "Loaded df shape: (581012, 55)\n"
     ]
    },
    {
     "data": {
      "application/vnd.microsoft.datawrangler.viewer.v0+json": {
       "columns": [
        {
         "name": "index",
         "rawType": "int64",
         "type": "integer"
        },
        {
         "name": "Elevation",
         "rawType": "int64",
         "type": "integer"
        },
        {
         "name": "Aspect",
         "rawType": "int64",
         "type": "integer"
        },
        {
         "name": "Slope",
         "rawType": "int64",
         "type": "integer"
        },
        {
         "name": "Horizontal_Distance_To_Hydrology",
         "rawType": "int64",
         "type": "integer"
        },
        {
         "name": "Vertical_Distance_To_Hydrology",
         "rawType": "int64",
         "type": "integer"
        },
        {
         "name": "Horizontal_Distance_To_Roadways",
         "rawType": "int64",
         "type": "integer"
        },
        {
         "name": "Hillshade_9am",
         "rawType": "int64",
         "type": "integer"
        },
        {
         "name": "Hillshade_Noon",
         "rawType": "int64",
         "type": "integer"
        },
        {
         "name": "Hillshade_3pm",
         "rawType": "int64",
         "type": "integer"
        },
        {
         "name": "Horizontal_Distance_To_Fire_Points",
         "rawType": "int64",
         "type": "integer"
        },
        {
         "name": "Wilderness_Area1",
         "rawType": "int64",
         "type": "integer"
        },
        {
         "name": "Wilderness_Area2",
         "rawType": "int64",
         "type": "integer"
        },
        {
         "name": "Wilderness_Area3",
         "rawType": "int64",
         "type": "integer"
        },
        {
         "name": "Wilderness_Area4",
         "rawType": "int64",
         "type": "integer"
        },
        {
         "name": "Soil_Type1",
         "rawType": "int64",
         "type": "integer"
        },
        {
         "name": "Soil_Type2",
         "rawType": "int64",
         "type": "integer"
        },
        {
         "name": "Soil_Type3",
         "rawType": "int64",
         "type": "integer"
        },
        {
         "name": "Soil_Type4",
         "rawType": "int64",
         "type": "integer"
        },
        {
         "name": "Soil_Type5",
         "rawType": "int64",
         "type": "integer"
        },
        {
         "name": "Soil_Type6",
         "rawType": "int64",
         "type": "integer"
        },
        {
         "name": "Soil_Type7",
         "rawType": "int64",
         "type": "integer"
        },
        {
         "name": "Soil_Type8",
         "rawType": "int64",
         "type": "integer"
        },
        {
         "name": "Soil_Type9",
         "rawType": "int64",
         "type": "integer"
        },
        {
         "name": "Soil_Type10",
         "rawType": "int64",
         "type": "integer"
        },
        {
         "name": "Soil_Type11",
         "rawType": "int64",
         "type": "integer"
        },
        {
         "name": "Soil_Type12",
         "rawType": "int64",
         "type": "integer"
        },
        {
         "name": "Soil_Type13",
         "rawType": "int64",
         "type": "integer"
        },
        {
         "name": "Soil_Type14",
         "rawType": "int64",
         "type": "integer"
        },
        {
         "name": "Soil_Type15",
         "rawType": "int64",
         "type": "integer"
        },
        {
         "name": "Soil_Type16",
         "rawType": "int64",
         "type": "integer"
        },
        {
         "name": "Soil_Type17",
         "rawType": "int64",
         "type": "integer"
        },
        {
         "name": "Soil_Type18",
         "rawType": "int64",
         "type": "integer"
        },
        {
         "name": "Soil_Type19",
         "rawType": "int64",
         "type": "integer"
        },
        {
         "name": "Soil_Type20",
         "rawType": "int64",
         "type": "integer"
        },
        {
         "name": "Soil_Type21",
         "rawType": "int64",
         "type": "integer"
        },
        {
         "name": "Soil_Type22",
         "rawType": "int64",
         "type": "integer"
        },
        {
         "name": "Soil_Type23",
         "rawType": "int64",
         "type": "integer"
        },
        {
         "name": "Soil_Type24",
         "rawType": "int64",
         "type": "integer"
        },
        {
         "name": "Soil_Type25",
         "rawType": "int64",
         "type": "integer"
        },
        {
         "name": "Soil_Type26",
         "rawType": "int64",
         "type": "integer"
        },
        {
         "name": "Soil_Type27",
         "rawType": "int64",
         "type": "integer"
        },
        {
         "name": "Soil_Type28",
         "rawType": "int64",
         "type": "integer"
        },
        {
         "name": "Soil_Type29",
         "rawType": "int64",
         "type": "integer"
        },
        {
         "name": "Soil_Type30",
         "rawType": "int64",
         "type": "integer"
        },
        {
         "name": "Soil_Type31",
         "rawType": "int64",
         "type": "integer"
        },
        {
         "name": "Soil_Type32",
         "rawType": "int64",
         "type": "integer"
        },
        {
         "name": "Soil_Type33",
         "rawType": "int64",
         "type": "integer"
        },
        {
         "name": "Soil_Type34",
         "rawType": "int64",
         "type": "integer"
        },
        {
         "name": "Soil_Type35",
         "rawType": "int64",
         "type": "integer"
        },
        {
         "name": "Soil_Type36",
         "rawType": "int64",
         "type": "integer"
        },
        {
         "name": "Soil_Type37",
         "rawType": "int64",
         "type": "integer"
        },
        {
         "name": "Soil_Type38",
         "rawType": "int64",
         "type": "integer"
        },
        {
         "name": "Soil_Type39",
         "rawType": "int64",
         "type": "integer"
        },
        {
         "name": "Soil_Type40",
         "rawType": "int64",
         "type": "integer"
        },
        {
         "name": "Cover_Type",
         "rawType": "int64",
         "type": "integer"
        }
       ],
       "ref": "ebc150be-b438-4d09-9270-e1b97db33c80",
       "rows": [
        [
         "0",
         "2596",
         "51",
         "3",
         "258",
         "0",
         "510",
         "221",
         "232",
         "148",
         "6279",
         "1",
         "0",
         "0",
         "0",
         "0",
         "0",
         "0",
         "0",
         "0",
         "0",
         "0",
         "0",
         "0",
         "0",
         "0",
         "0",
         "0",
         "0",
         "0",
         "0",
         "0",
         "0",
         "0",
         "0",
         "0",
         "0",
         "0",
         "0",
         "0",
         "0",
         "0",
         "0",
         "1",
         "0",
         "0",
         "0",
         "0",
         "0",
         "0",
         "0",
         "0",
         "0",
         "0",
         "0",
         "5"
        ],
        [
         "1",
         "2590",
         "56",
         "2",
         "212",
         "-6",
         "390",
         "220",
         "235",
         "151",
         "6225",
         "1",
         "0",
         "0",
         "0",
         "0",
         "0",
         "0",
         "0",
         "0",
         "0",
         "0",
         "0",
         "0",
         "0",
         "0",
         "0",
         "0",
         "0",
         "0",
         "0",
         "0",
         "0",
         "0",
         "0",
         "0",
         "0",
         "0",
         "0",
         "0",
         "0",
         "0",
         "0",
         "1",
         "0",
         "0",
         "0",
         "0",
         "0",
         "0",
         "0",
         "0",
         "0",
         "0",
         "0",
         "5"
        ],
        [
         "2",
         "2804",
         "139",
         "9",
         "268",
         "65",
         "3180",
         "234",
         "238",
         "135",
         "6121",
         "1",
         "0",
         "0",
         "0",
         "0",
         "0",
         "0",
         "0",
         "0",
         "0",
         "0",
         "0",
         "0",
         "0",
         "0",
         "1",
         "0",
         "0",
         "0",
         "0",
         "0",
         "0",
         "0",
         "0",
         "0",
         "0",
         "0",
         "0",
         "0",
         "0",
         "0",
         "0",
         "0",
         "0",
         "0",
         "0",
         "0",
         "0",
         "0",
         "0",
         "0",
         "0",
         "0",
         "0",
         "2"
        ],
        [
         "3",
         "2785",
         "155",
         "18",
         "242",
         "118",
         "3090",
         "238",
         "238",
         "122",
         "6211",
         "1",
         "0",
         "0",
         "0",
         "0",
         "0",
         "0",
         "0",
         "0",
         "0",
         "0",
         "0",
         "0",
         "0",
         "0",
         "0",
         "0",
         "0",
         "0",
         "0",
         "0",
         "0",
         "0",
         "0",
         "0",
         "0",
         "0",
         "0",
         "0",
         "0",
         "0",
         "0",
         "0",
         "1",
         "0",
         "0",
         "0",
         "0",
         "0",
         "0",
         "0",
         "0",
         "0",
         "0",
         "2"
        ],
        [
         "4",
         "2595",
         "45",
         "2",
         "153",
         "-1",
         "391",
         "220",
         "234",
         "150",
         "6172",
         "1",
         "0",
         "0",
         "0",
         "0",
         "0",
         "0",
         "0",
         "0",
         "0",
         "0",
         "0",
         "0",
         "0",
         "0",
         "0",
         "0",
         "0",
         "0",
         "0",
         "0",
         "0",
         "0",
         "0",
         "0",
         "0",
         "0",
         "0",
         "0",
         "0",
         "0",
         "0",
         "1",
         "0",
         "0",
         "0",
         "0",
         "0",
         "0",
         "0",
         "0",
         "0",
         "0",
         "0",
         "5"
        ]
       ],
       "shape": {
        "columns": 55,
        "rows": 5
       }
      },
      "text/html": [
       "<div>\n",
       "<style scoped>\n",
       "    .dataframe tbody tr th:only-of-type {\n",
       "        vertical-align: middle;\n",
       "    }\n",
       "\n",
       "    .dataframe tbody tr th {\n",
       "        vertical-align: top;\n",
       "    }\n",
       "\n",
       "    .dataframe thead th {\n",
       "        text-align: right;\n",
       "    }\n",
       "</style>\n",
       "<table border=\"1\" class=\"dataframe\">\n",
       "  <thead>\n",
       "    <tr style=\"text-align: right;\">\n",
       "      <th></th>\n",
       "      <th>Elevation</th>\n",
       "      <th>Aspect</th>\n",
       "      <th>Slope</th>\n",
       "      <th>Horizontal_Distance_To_Hydrology</th>\n",
       "      <th>Vertical_Distance_To_Hydrology</th>\n",
       "      <th>Horizontal_Distance_To_Roadways</th>\n",
       "      <th>Hillshade_9am</th>\n",
       "      <th>Hillshade_Noon</th>\n",
       "      <th>Hillshade_3pm</th>\n",
       "      <th>Horizontal_Distance_To_Fire_Points</th>\n",
       "      <th>...</th>\n",
       "      <th>Soil_Type32</th>\n",
       "      <th>Soil_Type33</th>\n",
       "      <th>Soil_Type34</th>\n",
       "      <th>Soil_Type35</th>\n",
       "      <th>Soil_Type36</th>\n",
       "      <th>Soil_Type37</th>\n",
       "      <th>Soil_Type38</th>\n",
       "      <th>Soil_Type39</th>\n",
       "      <th>Soil_Type40</th>\n",
       "      <th>Cover_Type</th>\n",
       "    </tr>\n",
       "  </thead>\n",
       "  <tbody>\n",
       "    <tr>\n",
       "      <th>0</th>\n",
       "      <td>2596</td>\n",
       "      <td>51</td>\n",
       "      <td>3</td>\n",
       "      <td>258</td>\n",
       "      <td>0</td>\n",
       "      <td>510</td>\n",
       "      <td>221</td>\n",
       "      <td>232</td>\n",
       "      <td>148</td>\n",
       "      <td>6279</td>\n",
       "      <td>...</td>\n",
       "      <td>0</td>\n",
       "      <td>0</td>\n",
       "      <td>0</td>\n",
       "      <td>0</td>\n",
       "      <td>0</td>\n",
       "      <td>0</td>\n",
       "      <td>0</td>\n",
       "      <td>0</td>\n",
       "      <td>0</td>\n",
       "      <td>5</td>\n",
       "    </tr>\n",
       "    <tr>\n",
       "      <th>1</th>\n",
       "      <td>2590</td>\n",
       "      <td>56</td>\n",
       "      <td>2</td>\n",
       "      <td>212</td>\n",
       "      <td>-6</td>\n",
       "      <td>390</td>\n",
       "      <td>220</td>\n",
       "      <td>235</td>\n",
       "      <td>151</td>\n",
       "      <td>6225</td>\n",
       "      <td>...</td>\n",
       "      <td>0</td>\n",
       "      <td>0</td>\n",
       "      <td>0</td>\n",
       "      <td>0</td>\n",
       "      <td>0</td>\n",
       "      <td>0</td>\n",
       "      <td>0</td>\n",
       "      <td>0</td>\n",
       "      <td>0</td>\n",
       "      <td>5</td>\n",
       "    </tr>\n",
       "    <tr>\n",
       "      <th>2</th>\n",
       "      <td>2804</td>\n",
       "      <td>139</td>\n",
       "      <td>9</td>\n",
       "      <td>268</td>\n",
       "      <td>65</td>\n",
       "      <td>3180</td>\n",
       "      <td>234</td>\n",
       "      <td>238</td>\n",
       "      <td>135</td>\n",
       "      <td>6121</td>\n",
       "      <td>...</td>\n",
       "      <td>0</td>\n",
       "      <td>0</td>\n",
       "      <td>0</td>\n",
       "      <td>0</td>\n",
       "      <td>0</td>\n",
       "      <td>0</td>\n",
       "      <td>0</td>\n",
       "      <td>0</td>\n",
       "      <td>0</td>\n",
       "      <td>2</td>\n",
       "    </tr>\n",
       "    <tr>\n",
       "      <th>3</th>\n",
       "      <td>2785</td>\n",
       "      <td>155</td>\n",
       "      <td>18</td>\n",
       "      <td>242</td>\n",
       "      <td>118</td>\n",
       "      <td>3090</td>\n",
       "      <td>238</td>\n",
       "      <td>238</td>\n",
       "      <td>122</td>\n",
       "      <td>6211</td>\n",
       "      <td>...</td>\n",
       "      <td>0</td>\n",
       "      <td>0</td>\n",
       "      <td>0</td>\n",
       "      <td>0</td>\n",
       "      <td>0</td>\n",
       "      <td>0</td>\n",
       "      <td>0</td>\n",
       "      <td>0</td>\n",
       "      <td>0</td>\n",
       "      <td>2</td>\n",
       "    </tr>\n",
       "    <tr>\n",
       "      <th>4</th>\n",
       "      <td>2595</td>\n",
       "      <td>45</td>\n",
       "      <td>2</td>\n",
       "      <td>153</td>\n",
       "      <td>-1</td>\n",
       "      <td>391</td>\n",
       "      <td>220</td>\n",
       "      <td>234</td>\n",
       "      <td>150</td>\n",
       "      <td>6172</td>\n",
       "      <td>...</td>\n",
       "      <td>0</td>\n",
       "      <td>0</td>\n",
       "      <td>0</td>\n",
       "      <td>0</td>\n",
       "      <td>0</td>\n",
       "      <td>0</td>\n",
       "      <td>0</td>\n",
       "      <td>0</td>\n",
       "      <td>0</td>\n",
       "      <td>5</td>\n",
       "    </tr>\n",
       "  </tbody>\n",
       "</table>\n",
       "<p>5 rows × 55 columns</p>\n",
       "</div>"
      ],
      "text/plain": [
       "   Elevation  Aspect  Slope  Horizontal_Distance_To_Hydrology  \\\n",
       "0       2596      51      3                               258   \n",
       "1       2590      56      2                               212   \n",
       "2       2804     139      9                               268   \n",
       "3       2785     155     18                               242   \n",
       "4       2595      45      2                               153   \n",
       "\n",
       "   Vertical_Distance_To_Hydrology  Horizontal_Distance_To_Roadways  \\\n",
       "0                               0                              510   \n",
       "1                              -6                              390   \n",
       "2                              65                             3180   \n",
       "3                             118                             3090   \n",
       "4                              -1                              391   \n",
       "\n",
       "   Hillshade_9am  Hillshade_Noon  Hillshade_3pm  \\\n",
       "0            221             232            148   \n",
       "1            220             235            151   \n",
       "2            234             238            135   \n",
       "3            238             238            122   \n",
       "4            220             234            150   \n",
       "\n",
       "   Horizontal_Distance_To_Fire_Points  ...  Soil_Type32  Soil_Type33  \\\n",
       "0                                6279  ...            0            0   \n",
       "1                                6225  ...            0            0   \n",
       "2                                6121  ...            0            0   \n",
       "3                                6211  ...            0            0   \n",
       "4                                6172  ...            0            0   \n",
       "\n",
       "   Soil_Type34  Soil_Type35  Soil_Type36  Soil_Type37  Soil_Type38  \\\n",
       "0            0            0            0            0            0   \n",
       "1            0            0            0            0            0   \n",
       "2            0            0            0            0            0   \n",
       "3            0            0            0            0            0   \n",
       "4            0            0            0            0            0   \n",
       "\n",
       "   Soil_Type39  Soil_Type40  Cover_Type  \n",
       "0            0            0           5  \n",
       "1            0            0           5  \n",
       "2            0            0           2  \n",
       "3            0            0           2  \n",
       "4            0            0           5  \n",
       "\n",
       "[5 rows x 55 columns]"
      ]
     },
     "metadata": {},
     "output_type": "display_data"
    },
    {
     "name": "stdout",
     "output_type": "stream",
     "text": [
      "Columns (first 20): ['Elevation', 'Aspect', 'Slope', 'Horizontal_Distance_To_Hydrology', 'Vertical_Distance_To_Hydrology', 'Horizontal_Distance_To_Roadways', 'Hillshade_9am', 'Hillshade_Noon', 'Hillshade_3pm', 'Horizontal_Distance_To_Fire_Points', 'Wilderness_Area1', 'Wilderness_Area2', 'Wilderness_Area3', 'Wilderness_Area4', 'Soil_Type1', 'Soil_Type2', 'Soil_Type3', 'Soil_Type4', 'Soil_Type5', 'Soil_Type6']\n"
     ]
    }
   ],
   "source": [
    "CSV_PATH = Path(path, \"covtype.csv\")  # adjust if needed\n",
    "df = pd.read_csv(CSV_PATH)\n",
    "print(\"Loaded df shape:\", df.shape)\n",
    "df.head()\n",
    "print(\"Columns (first 20):\", df.columns.tolist()[:20])\n",
    "# configure sample size: None to use all data (careful!), or integer to subsample stratified\n",
    "MAX_SAMPLES = (\n",
    "    None  # safe default for Colab; set to None to use full dataset if you have time/ram\n",
    ")"
   ]
  },
  {
   "cell_type": "code",
   "execution_count": 39,
   "metadata": {
    "colab": {
     "base_uri": "https://localhost:8080/"
    },
    "id": "1e9hB6ixAJBb",
    "outputId": "a417e4f1-eadc-4ce3-9283-1e26755c3d20"
   },
   "outputs": [
    {
     "name": "stdout",
     "output_type": "stream",
     "text": [
      "Target column: Cover_Type\n",
      "Original dataset size: (581012, 54)\n",
      "Using sample shape: (581012, 54) n_classes: 7\n"
     ]
    }
   ],
   "source": [
    "target_col = \"Cover_Type\" if \"Cover_Type\" in df.columns else df.columns[-1]\n",
    "print(\"Target column:\", target_col)\n",
    "X = df.drop(columns=[target_col]).to_numpy()\n",
    "y = df[target_col].to_numpy()\n",
    "# convert labels from 1..7 to 0..6 if needed\n",
    "if y.min() == 1:\n",
    "    y = y - 1\n",
    "\n",
    "print(\"Original dataset size:\", X.shape)\n",
    "\n",
    "if MAX_SAMPLES is not None and X.shape[0] > MAX_SAMPLES:\n",
    "    print(f\"Stratified sampling to {MAX_SAMPLES} samples...\")\n",
    "    sss = StratifiedShuffleSplit(n_splits=1, test_size=MAX_SAMPLES, random_state=42)\n",
    "    for _, idx in sss.split(X, y):\n",
    "        X_sample = X[idx]\n",
    "        y_sample = y[idx]\n",
    "else:\n",
    "    X_sample, y_sample = X, y\n",
    "\n",
    "print(\"Using sample shape:\", X_sample.shape, \"n_classes:\", len(np.unique(y_sample)))"
   ]
  },
  {
   "cell_type": "code",
   "execution_count": 40,
   "metadata": {
    "colab": {
     "base_uri": "https://localhost:8080/"
    },
    "id": "BM9goNh9Hxee",
    "outputId": "68397541-1c3e-49ea-efd1-35d9aea20790"
   },
   "outputs": [
    {
     "name": "stdout",
     "output_type": "stream",
     "text": [
      "Device: cuda\n"
     ]
    }
   ],
   "source": [
    "device = torch.device(\"cuda\" if torch.cuda.is_available() else \"cpu\")\n",
    "print(\"Device:\", device)\n",
    "\n",
    "\n",
    "class NumpyDataset(Dataset):\n",
    "    def __init__(self, X, y):\n",
    "        self.X = torch.from_numpy(X).float()\n",
    "        self.y = torch.from_numpy(y).long()\n",
    "\n",
    "    def __len__(self):\n",
    "        return len(self.y)\n",
    "\n",
    "    def __getitem__(self, idx):\n",
    "        return self.X[idx], self.y[idx]\n",
    "\n",
    "\n",
    "class MLP(nn.Module):\n",
    "    def __init__(self, input_dim, hidden_dim, n_classes, dropout=0.2):\n",
    "        super().__init__()\n",
    "        self.net = nn.Sequential(\n",
    "            nn.Linear(input_dim, hidden_dim),\n",
    "            nn.ReLU(),\n",
    "            nn.Dropout(dropout),\n",
    "            nn.Linear(hidden_dim, max(hidden_dim // 2, 8)),\n",
    "            nn.ReLU(),\n",
    "            nn.Dropout(dropout),\n",
    "            nn.Linear(max(hidden_dim // 2, 8), n_classes),\n",
    "        )\n",
    "\n",
    "    def forward(self, x):\n",
    "        return self.net(x)\n",
    "\n",
    "\n",
    "def train_one_epoch(model, loader, optimizer, criterion):\n",
    "    model.train()\n",
    "    total_loss = 0.0\n",
    "    for Xb, yb in loader:\n",
    "        Xb, yb = Xb.to(device), yb.to(device)\n",
    "        optimizer.zero_grad()\n",
    "        logits = model(Xb)\n",
    "        loss = criterion(logits, yb)\n",
    "        loss.backward()\n",
    "        optimizer.step()\n",
    "        total_loss += loss.item() * Xb.size(0)\n",
    "    return total_loss / len(loader.dataset)\n",
    "\n",
    "\n",
    "def eval_model(model, loader):\n",
    "    model.eval()\n",
    "    ys, ps = [], []\n",
    "    with torch.no_grad():\n",
    "        for Xb, yb in loader:\n",
    "            Xb = Xb.to(device)\n",
    "            logits = model(Xb)\n",
    "            preds = logits.argmax(dim=1).cpu().numpy()\n",
    "            ps.append(preds)\n",
    "            ys.append(yb.numpy())\n",
    "    y_true = np.concatenate(ys)\n",
    "    y_pred = np.concatenate(ps)\n",
    "    return float(f1_score(y_true, y_pred, average=\"weighted\")), y_true, y_pred"
   ]
  },
  {
   "cell_type": "code",
   "execution_count": null,
   "metadata": {
    "colab": {
     "base_uri": "https://localhost:8080/"
    },
    "id": "9kO9QDi7YKe-",
    "outputId": "07c080e0-774a-4140-8a9b-cb4a00a830f1"
   },
   "outputs": [],
   "source": [
    "n_classes = len(np.unique(y_sample))\n",
    "input_dim = X_sample.shape[1]\n",
    "print(\"input_dim:\", input_dim, \"n_classes:\", n_classes)\n",
    "\n",
    "param_grid = {\n",
    "    \"hidden_dim\": [128, 256],\n",
    "    \"lr\": [1e-3, 1e-4],\n",
    "    \"batch_size\": [256],\n",
    "    \"epochs\": [8],\n",
    "}\n",
    "\n",
    "\n",
    "def iter_grid(grid):\n",
    "    keys = list(grid.keys())\n",
    "    for vals in itertools.product(*(grid[k] for k in keys)):\n",
    "        yield dict(zip(keys, vals))\n",
    "\n",
    "\n",
    "skf = StratifiedKFold(n_splits=5, shuffle=True, random_state=42)\n",
    "best_cfg, best_score = None, -1.0\n",
    "results = []\n",
    "\n",
    "for cfg in iter_grid(param_grid):\n",
    "    fold_scores = []\n",
    "    t0 = time.time()\n",
    "    print(\"Testing cfg:\", cfg)\n",
    "    for fold_idx, (train_idx, val_idx) in enumerate(skf.split(X_sample, y_sample), 1):\n",
    "        # fit scaler on train fold\n",
    "        scaler = StandardScaler()\n",
    "        X_train_fold = scaler.fit_transform(X_sample[train_idx])\n",
    "        X_val_fold = scaler.transform(X_sample[val_idx])\n",
    "        y_train_fold = y_sample[train_idx]\n",
    "        y_val_fold = y_sample[val_idx]\n",
    "\n",
    "        train_ds = NumpyDataset(X_train_fold, y_train_fold)\n",
    "        val_ds = NumpyDataset(X_val_fold, y_val_fold)\n",
    "        train_loader = DataLoader(train_ds, batch_size=cfg[\"batch_size\"], shuffle=True)\n",
    "        val_loader = DataLoader(val_ds, batch_size=cfg[\"batch_size\"], shuffle=False)\n",
    "\n",
    "        model = MLP(\n",
    "            input_dim=input_dim, hidden_dim=cfg[\"hidden_dim\"], n_classes=n_classes\n",
    "        ).to(device)\n",
    "        opt = torch.optim.Adam(model.parameters(), lr=cfg[\"lr\"])\n",
    "        criterion = nn.CrossEntropyLoss()\n",
    "\n",
    "        for ep in range(cfg[\"epochs\"]):\n",
    "            _ = train_one_epoch(model, train_loader, opt, criterion)\n",
    "\n",
    "        f1_val, _, _ = eval_model(model, val_loader)\n",
    "        fold_scores.append(f1_val)\n",
    "\n",
    "        # cleanup\n",
    "        del model, opt, criterion, train_loader, val_loader, train_ds, val_ds\n",
    "        torch.cuda.empty_cache()\n",
    "        gc.collect()\n",
    "\n",
    "    mean_f1 = float(np.mean(fold_scores))\n",
    "    elapsed = time.time() - t0\n",
    "    print(f\"  Mean F1 5-fold = {mean_f1:.4f} (time {elapsed:.1f}s)\")\n",
    "    results.append((cfg, mean_f1))\n",
    "    if mean_f1 > best_score:\n",
    "        best_score = mean_f1\n",
    "        best_cfg = deepcopy(cfg)\n",
    "\n",
    "print(\"\\nBest config:\", best_cfg, \"best_cv_f1 =\", best_score)"
   ]
  },
  {
   "cell_type": "code",
   "execution_count": 43,
   "metadata": {},
   "outputs": [
    {
     "name": "stdout",
     "output_type": "stream",
     "text": [
      "Saved grid search summary to /content/grid_search_results.json\n"
     ]
    }
   ],
   "source": [
    "#save results\n",
    "Path(\"content\").mkdir(parents=True, exist_ok=True)\n",
    "with open(\"content/grid_search_results.json\", \"w\") as f:\n",
    "    json.dump(\n",
    "        {\n",
    "            \"best\": best_cfg,\n",
    "            \"best_score\": best_score,\n",
    "            \"results\": [[r[0], r[1]] for r in results],\n",
    "        },\n",
    "        f,\n",
    "        indent=2,\n",
    "    )\n",
    "print(\"Saved grid search summary to /content/grid_search_results.json\")"
   ]
  },
  {
   "cell_type": "code",
   "execution_count": 46,
   "metadata": {
    "colab": {
     "base_uri": "https://localhost:8080/"
    },
    "id": "MA7c50uTYQPf",
    "outputId": "d1706486-fa15-48b6-87b9-3b68d668719d"
   },
   "outputs": [
    {
     "name": "stdout",
     "output_type": "stream",
     "text": [
      "Training final with: {'hidden_dim': 256, 'lr': 0.001, 'batch_size': 256, 'epochs': 8}\n",
      "Epoch 1/8 - loss: 0.5917\n",
      "Epoch 2/8 - loss: 0.4910\n",
      "Epoch 3/8 - loss: 0.4515\n",
      "Epoch 4/8 - loss: 0.4266\n",
      "Epoch 5/8 - loss: 0.4082\n",
      "Epoch 6/8 - loss: 0.3943\n",
      "Epoch 7/8 - loss: 0.3832\n",
      "Epoch 8/8 - loss: 0.3726\n",
      "Saved model to content/cover_mlp_best.pth\n",
      "Saved scaler to content/cover_scaler.pkl\n",
      "Saved training summary to content/cover_training_summary.json\n"
     ]
    }
   ],
   "source": [
    "best = best_cfg\n",
    "print(\"Training final with:\", best)\n",
    "\n",
    "scaler_final = StandardScaler()\n",
    "X_scaled = scaler_final.fit_transform(X_sample)\n",
    "y_final = y_sample\n",
    "\n",
    "final_ds = NumpyDataset(X_scaled, y_final)\n",
    "final_loader = DataLoader(final_ds, batch_size=best[\"batch_size\"], shuffle=True)\n",
    "\n",
    "model_final = MLP(\n",
    "    input_dim=input_dim, hidden_dim=best[\"hidden_dim\"], n_classes=n_classes\n",
    ").to(device)\n",
    "optimizer = torch.optim.Adam(model_final.parameters(), lr=best[\"lr\"])\n",
    "criterion = nn.CrossEntropyLoss()\n",
    "\n",
    "for epoch in range(best[\"epochs\"]):\n",
    "    loss = train_one_epoch(model_final, final_loader, optimizer, criterion)\n",
    "    print(f\"Epoch {epoch + 1}/{best['epochs']} - loss: {loss:.4f}\")\n",
    "\n",
    "MODEL_PATH = \"content/cover_mlp_best.pth\"\n",
    "SCALER_PATH = \"content/cover_scaler.pkl\"\n",
    "torch.save(model_final.state_dict(), MODEL_PATH)\n",
    "joblib.dump(scaler_final, SCALER_PATH)\n",
    "print(\"Saved model to\", MODEL_PATH)\n",
    "print(\"Saved scaler to\", SCALER_PATH)\n",
    "\n",
    "# save summary\n",
    "summary = {\n",
    "    \"n_total_available\": int(X.shape[0]),\n",
    "    \"n_used_sample\": int(X_sample.shape[0]),\n",
    "    \"best_cfg\": best,\n",
    "    \"best_cv_f1\": best_score,\n",
    "    \"model_path\": MODEL_PATH,\n",
    "    \"scaler_path\": SCALER_PATH,\n",
    "}\n",
    "\n",
    "with open(\"content/cover_training_summary.json\", \"w\") as f:\n",
    "    json.dump(summary, f, indent=2)\n",
    "print(\"Saved training summary to content/cover_training_summary.json\")"
   ]
  },
  {
   "cell_type": "markdown",
   "metadata": {
    "id": "axxjZKd_AJBb"
   },
   "source": [
    "## Identificando a mellhor solução\n",
    "\n",
    "Como resultado da busca em grande com validação cruzada 5-fold, identifique o modelo otimizado com melhor desempenho para o problema. Apresente claramente este modelo, seus parâmetros, hiperparâmetros otimizados e resultados para cada um dos folds avaliados. Esta é a melhor solução identificada em decorrência deste projeto"
   ]
  },
  {
   "cell_type": "code",
   "execution_count": 48,
   "metadata": {
    "colab": {
     "base_uri": "https://localhost:8080/",
     "height": 581
    },
    "id": "56vl-eZyAJBc",
    "outputId": "03d763fc-fff2-4e45-d133-f722b1b59f9f"
   },
   "outputs": [
    {
     "name": "stdout",
     "output_type": "stream",
     "text": [
      "Melhor Solução Encontrada pela Busca em Grade\n",
      "\n",
      "\n",
      "Melhor F1-Score (média de 5 folds): 0.8662\n",
      "\n",
      "\n",
      "Melhor Configuração de Hiperparâmetros:\n",
      "{\n",
      "  \"hidden_dim\": 256,\n",
      "  \"lr\": 0.001,\n",
      "  \"batch_size\": 256,\n",
      "  \"epochs\": 8\n",
      "}\n"
     ]
    }
   ],
   "source": [
    "results_path = Path(\"/content/grid_search_results.json\")\n",
    "\n",
    "with results_path.open(\"r\") as f:\n",
    "    grid_results = json.load(f)\n",
    "\n",
    "best_cfg = grid_results[\"best\"]\n",
    "best_score = grid_results[\"best_score\"]\n",
    "all_results = grid_results[\"results\"]\n",
    "\n",
    "print(\"Melhor Solução Encontrada pela Busca em Grade\")\n",
    "print(\"\\n\")\n",
    "print(f\"Melhor F1-Score (média de 5 folds): {best_score:.4f}\")\n",
    "print(\"\\n\")\n",
    "print(\"Melhor Configuração de Hiperparâmetros:\")\n",
    "print(json.dumps(best_cfg, indent=2))"
   ]
  },
  {
   "cell_type": "code",
   "execution_count": null,
   "metadata": {},
   "outputs": [
    {
     "name": "stdout",
     "output_type": "stream",
     "text": [
      "Detalhes de Todas as Configurações Testadas\n"
     ]
    },
    {
     "data": {
      "application/vnd.microsoft.datawrangler.viewer.v0+json": {
       "columns": [
        {
         "name": "index",
         "rawType": "int64",
         "type": "integer"
        },
        {
         "name": "hidden_dim",
         "rawType": "int64",
         "type": "integer"
        },
        {
         "name": "lr",
         "rawType": "float64",
         "type": "float"
        },
        {
         "name": "batch_size",
         "rawType": "int64",
         "type": "integer"
        },
        {
         "name": "epochs",
         "rawType": "int64",
         "type": "integer"
        },
        {
         "name": "mean_f1_score",
         "rawType": "float64",
         "type": "float"
        }
       ],
       "ref": "dd78fdbe-0fdb-4384-b863-6c8ba0f0201c",
       "rows": [
        [
         "2",
         "256",
         "0.001",
         "256",
         "8",
         "0.8661752025408885"
        ],
        [
         "0",
         "128",
         "0.001",
         "256",
         "8",
         "0.8351636654141267"
        ],
        [
         "3",
         "256",
         "0.0001",
         "256",
         "8",
         "0.7822856159516258"
        ],
        [
         "1",
         "128",
         "0.0001",
         "256",
         "8",
         "0.7596138298253013"
        ]
       ],
       "shape": {
        "columns": 5,
        "rows": 4
       }
      },
      "text/html": [
       "<div>\n",
       "<style scoped>\n",
       "    .dataframe tbody tr th:only-of-type {\n",
       "        vertical-align: middle;\n",
       "    }\n",
       "\n",
       "    .dataframe tbody tr th {\n",
       "        vertical-align: top;\n",
       "    }\n",
       "\n",
       "    .dataframe thead th {\n",
       "        text-align: right;\n",
       "    }\n",
       "</style>\n",
       "<table border=\"1\" class=\"dataframe\">\n",
       "  <thead>\n",
       "    <tr style=\"text-align: right;\">\n",
       "      <th></th>\n",
       "      <th>hidden_dim</th>\n",
       "      <th>lr</th>\n",
       "      <th>batch_size</th>\n",
       "      <th>epochs</th>\n",
       "      <th>mean_f1_score</th>\n",
       "    </tr>\n",
       "  </thead>\n",
       "  <tbody>\n",
       "    <tr>\n",
       "      <th>2</th>\n",
       "      <td>256</td>\n",
       "      <td>0.0010</td>\n",
       "      <td>256</td>\n",
       "      <td>8</td>\n",
       "      <td>0.866175</td>\n",
       "    </tr>\n",
       "    <tr>\n",
       "      <th>0</th>\n",
       "      <td>128</td>\n",
       "      <td>0.0010</td>\n",
       "      <td>256</td>\n",
       "      <td>8</td>\n",
       "      <td>0.835164</td>\n",
       "    </tr>\n",
       "    <tr>\n",
       "      <th>3</th>\n",
       "      <td>256</td>\n",
       "      <td>0.0001</td>\n",
       "      <td>256</td>\n",
       "      <td>8</td>\n",
       "      <td>0.782286</td>\n",
       "    </tr>\n",
       "    <tr>\n",
       "      <th>1</th>\n",
       "      <td>128</td>\n",
       "      <td>0.0001</td>\n",
       "      <td>256</td>\n",
       "      <td>8</td>\n",
       "      <td>0.759614</td>\n",
       "    </tr>\n",
       "  </tbody>\n",
       "</table>\n",
       "</div>"
      ],
      "text/plain": [
       "   hidden_dim      lr  batch_size  epochs  mean_f1_score\n",
       "2         256  0.0010         256       8       0.866175\n",
       "0         128  0.0010         256       8       0.835164\n",
       "3         256  0.0001         256       8       0.782286\n",
       "1         128  0.0001         256       8       0.759614"
      ]
     },
     "execution_count": 51,
     "metadata": {},
     "output_type": "execute_result"
    }
   ],
   "source": [
    "print(\"Detalhes de Todas as Configurações Testadas\")\n",
    "\n",
    "results_list = []\n",
    "for cfg, score in all_results:\n",
    "    row = cfg.copy() #copia os hiperparametros\n",
    "    row[\"mean_f1_score\"] = score\n",
    "    results_list.append(row)\n",
    "\n",
    "# df com resultados\n",
    "results_df = pd.DataFrame(results_list)\n",
    "\n",
    "# df ordenado pelos melhores resultados\n",
    "results_df = results_df.sort_values(by=\"mean_f1_score\", ascending=False)\n",
    "\n",
    "# mostra o dataframe\n",
    "results_df"
   ]
  },
  {
   "cell_type": "markdown",
   "metadata": {
    "id": "z0sQ29RkAJBe"
   },
   "source": [
    "## Empacotando a solução\n",
    "\n",
    "Suponha que você deve entregar este classificador ao órgão responsável por administrar o Roosevelt National Park. Para tanto, você deve fazer uma preparação do mesmo para utilização neste cenário. Uma vez que já identificou os melhores parâmetros e hiperparâmetros, o passo remanescente consiste em treinar o modelo com estes valores e todos os dados disponíveis, salvando o conjunto de pesos do modelo ao final para entrega ao cliente. Assim, finalize o projeto prático realizando tais passos.\n",
    "\n",
    "1. Consulte a documentação a seguir:\n",
    "https://scikit-learn.org/stable/modules/model_persistence.html  \n",
    "2. Treine o modelo com todos os dados  \n",
    "3. Salve o modelo em disco  \n",
    "4. Construa uma rotina que recupere o modelo em disco  \n",
    "5. Mostre que a rotina é funcional, fazendo previsões com todos os elementos do dataset e exibindo uma matriz de confusão das mesmas"
   ]
  },
  {
   "cell_type": "code",
   "execution_count": 57,
   "metadata": {
    "id": "gifMdf1eAJBg"
   },
   "outputs": [
    {
     "name": "stdout",
     "output_type": "stream",
     "text": [
      "Scaler carregado com sucesso de: content\\cover_scaler.pkl\n",
      "\n",
      "Resultado da Avaliação nos Dados Completos:\n",
      "F1-Score (weighted): 0.8730\n"
     ]
    }
   ],
   "source": [
    "MODEL_PATH = Path(\"content/cover_mlp_best.pth\")\n",
    "SCALER_PATH = Path(\"content/cover_scaler.pkl\")\n",
    "JSON_PATH = Path(\"content/grid_search_results.json\")\n",
    "\n",
    "loaded_scaler = joblib.load(SCALER_PATH)\n",
    "print(f\"Scaler carregado com sucesso de: {SCALER_PATH}\")\n",
    "\n",
    "with JSON_PATH.open(\"r\") as f:\n",
    "    grid_results = json.load(f)\n",
    "best_cfg = grid_results[\"best\"]\n",
    "\n",
    "n_classes = len(np.unique(y_sample))\n",
    "input_dim = X_sample.shape[1]\n",
    "\n",
    "loaded_model = MLP(\n",
    "    input_dim=input_dim, hidden_dim=best_cfg[\"hidden_dim\"], n_classes=n_classes\n",
    ").to(device)\n",
    "\n",
    "loaded_model.load_state_dict(torch.load(MODEL_PATH))\n",
    "loaded_model.eval()\n",
    "X_data_to_eval = loaded_scaler.transform(X_sample)\n",
    "y_data_to_eval = y_sample\n",
    "\n",
    "eval_ds = NumpyDataset(X_data_to_eval, y_data_to_eval)\n",
    "eval_loader = DataLoader(\n",
    "    eval_ds, batch_size=best_cfg.get(\"batch_size\", 256), shuffle=False\n",
    ")\n",
    "\n",
    "f1_final, y_true_final, y_pred_final = eval_model(loaded_model, eval_loader)\n",
    "\n",
    "print(\"\\nResultado da Avaliação nos Dados Completos:\")\n",
    "print(f\"F1-Score (weighted): {f1_final:.4f}\")"
   ]
  },
  {
   "cell_type": "code",
   "execution_count": 58,
   "metadata": {},
   "outputs": [
    {
     "name": "stdout",
     "output_type": "stream",
     "text": [
      "Relatório de Classificação Detalhado:\n",
      "              precision    recall  f1-score   support\n",
      "\n",
      "           0       0.89      0.84      0.86    211840\n",
      "           1       0.87      0.92      0.89    283301\n",
      "           2       0.85      0.89      0.87     35754\n",
      "           3       0.90      0.66      0.76      2747\n",
      "           4       0.80      0.53      0.64      9493\n",
      "           5       0.75      0.74      0.75     17367\n",
      "           6       0.91      0.88      0.89     20510\n",
      "\n",
      "    accuracy                           0.87    581012\n",
      "   macro avg       0.85      0.78      0.81    581012\n",
      "weighted avg       0.87      0.87      0.87    581012\n",
      "\n"
     ]
    }
   ],
   "source": [
    "print(\"Relatório de Classificação Detalhado:\")\n",
    "print(classification_report(y_true_final, y_pred_final))"
   ]
  },
  {
   "cell_type": "code",
   "execution_count": 67,
   "metadata": {},
   "outputs": [
    {
     "data": {
      "image/png": "[encoded data removed]",
      "text/plain": [
       "<Figure size 1000x800 with 2 Axes>"
      ]
     },
     "metadata": {},
     "output_type": "display_data"
    }
   ],
   "source": [
    "cm = confusion_matrix(y_true_final, y_pred_final)\n",
    "\n",
    "tick_labels = [f\"{i}\" for i in range(n_classes)]\n",
    "\n",
    "plt.figure(figsize=(10, 8))\n",
    "\n",
    "sns.heatmap(cm,\n",
    "            annot=True,     # Mostrar os números dentro de cada célula\n",
    "            fmt=\"d\",        # Formatar os números como inteiros\n",
    "            cmap=\"Blues\",   # Esquema de cores\n",
    "            xticklabels=tick_labels,\n",
    "            yticklabels=tick_labels)\n",
    "\n",
    "plt.title(\"Matriz de Confusão\")\n",
    "plt.ylabel(\"True Label\")\n",
    "plt.xlabel(\"Predicted Label)\")\n",
    "plt.show()"
   ]
  }
 ],
 "metadata": {
  "accelerator": "GPU",
  "colab": {
   "gpuType": "T4",
   "provenance": []
  },
  "kernelspec": {
   "display_name": "rna-forest-cover-type-prediction",
   "language": "python",
   "name": "python3"
  },
  "language_info": {
   "codemirror_mode": {
    "name": "ipython",
    "version": 3
   },
   "file_extension": ".py",
   "mimetype": "text/x-python",
   "name": "python",
   "nbconvert_exporter": "python",
   "pygments_lexer": "ipython3",
   "version": "3.13.7"
  }
 },
 "nbformat": 4,
 "nbformat_minor": 0
}
